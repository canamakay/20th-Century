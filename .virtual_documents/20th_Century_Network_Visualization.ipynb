





import pandas as pd
import numpy as np
import networkx as nx
import os
import matplotlib.pyplot as plt
from pyvis.network import Network
import seaborn as sns
import pyvis


# importing relationship data

relationship_df = pd.read_csv('country_relationships.csv', index_col = 0)


relationship_df





#creating a network object

G = nx.from_pandas_edgelist(relationship_df, 
                            source = "source", 
                            target = "target", 
                            edge_attr = "value", 
                            create_using = nx.Graph())


#creating a static network graph using only NetworkX.
h = plt.figure(figsize = (7,7))
pos = nx.kamada_kawai_layout(G)
nx.draw(G, with_labels = True, node_color = 'red', edge_cmap = plt.cm.Blues, pos = pos)
plt.show() 


#creating a network graph using pyvis
# Define net object

net = Network()
net = Network(notebook = True,width="900px", height="800px", bgcolor='#222222', font_color='white')

# Define nodes from the G object
node_degree = dict(G.degree)

# Setting up node size attributes
nx.set_node_attributes(G, node_degree, 'size')
net.from_nx(G)
net.show_buttons(filter_ = True)
net.repulsion()
net.show("pyvis_network_graph.html")





import sys
!{sys.executable} -m pip install python-igraph
!{sys.executable} -m pip install leidenalg


from cdlib import algorithms
coms = algorithms.leiden(G)


type(coms)


new_com = coms.to_node_community_map()


new_com


# putting the output from new_com into a dictionary

dict_com = {k:v[0] for k,v in new_com.items()}


dict_com


# running network graph with the communities as an argument

nx.set_node_attributes(G, dict_com, 'group')
com_net = Network(notebook = True, width="1300px", height="700px", bgcolor='#222222', font_color='white')
com_net.from_nx(G)
com_net.show_buttons(filter_ = True)
com_net.repulsion()
com_net.show("20th_century_communities_leiden.html")








degree_dict = nx.degree_centrality(G)
degree_dict


degree_df = pd.DataFrame(degree_dict.items(), columns=['countries','centrality'])


degree_df.sort_values(by = ['centrality'], ascending=False, inplace = True)


plt.figure(figsize = (10, 4))
with sns.dark_palette("xkcd:blue", 22):
    sns.barplot(x = "centrality", y = "countries",
    saturation = 0.9, data = degree_df.head(20)).set_title("Key Events of the 20th Century - Degree Centrality")








closeness_dict = nx.closeness_centrality(G)
closeness_df = pd.DataFrame(closeness_dict.items(), columns=['countries','centrality'])


closeness_df.sort_values(by = ['centrality'], ascending=False, inplace = True)


plt.figure(figsize = (10, 4))
with sns.dark_palette("xkcd:blue", 22):
    sns.barplot(x = "centrality", y = "countries",
    saturation = 0.9, data = closeness_df.head(20)).set_title("Key Events of the 20th Century - Closeness centrality")








betweenness_dict = nx.betweenness_centrality(G)
betweennes_df = pd.DataFrame(betweenness_dict.items(), columns=['countries','centrality'])


betweennes_df.sort_values(by = ['centrality'], ascending=False, inplace = True)


plt.figure(figsize = (10, 4))
with sns.dark_palette("xkcd:blue", 22):
    sns.barplot(x = "centrality", y = "countries",
    saturation = 0.9, data = betweennes_df.head(20)).set_title("Key Events of the 20th Century - Betweenness Centrality")



