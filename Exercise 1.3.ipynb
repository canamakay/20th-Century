{
 "cells": [
  {
   "cell_type": "code",
   "execution_count": 1,
   "id": "c2332c6a-1f2e-4097-bbce-e8276c5736f1",
   "metadata": {},
   "outputs": [],
   "source": [
    "#importing libraries\n",
    "import pandas as pd"
   ]
  },
  {
   "cell_type": "code",
   "execution_count": 3,
   "id": "0c5cd9a9-f6cb-4846-86a9-6be3004ee3cf",
   "metadata": {},
   "outputs": [],
   "source": [
    "#creating data\n",
    "data = pd.DataFrame({\"Name\": ['Jennifer', 'Michaela', 'Karen','Tina'],\n",
    "                     \"# of products purchased\": [2,7,5,10]})"
   ]
  },
  {
   "cell_type": "code",
   "execution_count": 5,
   "id": "87659d3c-12ca-4e34-9ea3-f0c8701bee23",
   "metadata": {},
   "outputs": [
    {
     "data": {
      "text/html": [
       "<div>\n",
       "<style scoped>\n",
       "    .dataframe tbody tr th:only-of-type {\n",
       "        vertical-align: middle;\n",
       "    }\n",
       "\n",
       "    .dataframe tbody tr th {\n",
       "        vertical-align: top;\n",
       "    }\n",
       "\n",
       "    .dataframe thead th {\n",
       "        text-align: right;\n",
       "    }\n",
       "</style>\n",
       "<table border=\"1\" class=\"dataframe\">\n",
       "  <thead>\n",
       "    <tr style=\"text-align: right;\">\n",
       "      <th></th>\n",
       "      <th>Name</th>\n",
       "      <th># of products purchased</th>\n",
       "    </tr>\n",
       "  </thead>\n",
       "  <tbody>\n",
       "    <tr>\n",
       "      <th>0</th>\n",
       "      <td>Jennifer</td>\n",
       "      <td>2</td>\n",
       "    </tr>\n",
       "    <tr>\n",
       "      <th>1</th>\n",
       "      <td>Michaela</td>\n",
       "      <td>7</td>\n",
       "    </tr>\n",
       "    <tr>\n",
       "      <th>2</th>\n",
       "      <td>Karen</td>\n",
       "      <td>5</td>\n",
       "    </tr>\n",
       "    <tr>\n",
       "      <th>3</th>\n",
       "      <td>Tina</td>\n",
       "      <td>10</td>\n",
       "    </tr>\n",
       "  </tbody>\n",
       "</table>\n",
       "</div>"
      ],
      "text/plain": [
       "       Name  # of products purchased\n",
       "0  Jennifer                        2\n",
       "1  Michaela                        7\n",
       "2     Karen                        5\n",
       "3      Tina                       10"
      ]
     },
     "execution_count": 5,
     "metadata": {},
     "output_type": "execute_result"
    }
   ],
   "source": [
    "#checking data\n",
    "data"
   ]
  },
  {
   "cell_type": "code",
   "execution_count": 7,
   "id": "1ae79451-ae1a-432e-a52f-c8ef4a9f5703",
   "metadata": {},
   "outputs": [],
   "source": [
    "#creating a Total Amount Spent ($) from the # of products purchased column. (Each product is $5)\n",
    "data['Total Amount Spent($)'] = data['# of products purchased'].apply(lambda x: x*5)"
   ]
  },
  {
   "cell_type": "code",
   "execution_count": 9,
   "id": "e08e7c88-e07a-4d25-bc43-d002dc9b151d",
   "metadata": {},
   "outputs": [
    {
     "data": {
      "text/html": [
       "<div>\n",
       "<style scoped>\n",
       "    .dataframe tbody tr th:only-of-type {\n",
       "        vertical-align: middle;\n",
       "    }\n",
       "\n",
       "    .dataframe tbody tr th {\n",
       "        vertical-align: top;\n",
       "    }\n",
       "\n",
       "    .dataframe thead th {\n",
       "        text-align: right;\n",
       "    }\n",
       "</style>\n",
       "<table border=\"1\" class=\"dataframe\">\n",
       "  <thead>\n",
       "    <tr style=\"text-align: right;\">\n",
       "      <th></th>\n",
       "      <th>Name</th>\n",
       "      <th># of products purchased</th>\n",
       "      <th>Total Amount Spent($)</th>\n",
       "    </tr>\n",
       "  </thead>\n",
       "  <tbody>\n",
       "    <tr>\n",
       "      <th>0</th>\n",
       "      <td>Jennifer</td>\n",
       "      <td>2</td>\n",
       "      <td>10</td>\n",
       "    </tr>\n",
       "    <tr>\n",
       "      <th>1</th>\n",
       "      <td>Michaela</td>\n",
       "      <td>7</td>\n",
       "      <td>35</td>\n",
       "    </tr>\n",
       "    <tr>\n",
       "      <th>2</th>\n",
       "      <td>Karen</td>\n",
       "      <td>5</td>\n",
       "      <td>25</td>\n",
       "    </tr>\n",
       "    <tr>\n",
       "      <th>3</th>\n",
       "      <td>Tina</td>\n",
       "      <td>10</td>\n",
       "      <td>50</td>\n",
       "    </tr>\n",
       "  </tbody>\n",
       "</table>\n",
       "</div>"
      ],
      "text/plain": [
       "       Name  # of products purchased  Total Amount Spent($)\n",
       "0  Jennifer                        2                     10\n",
       "1  Michaela                        7                     35\n",
       "2     Karen                        5                     25\n",
       "3      Tina                       10                     50"
      ]
     },
     "execution_count": 9,
     "metadata": {},
     "output_type": "execute_result"
    }
   ],
   "source": [
    "#checking that'Total Amount Spent($)' column has been added \n",
    "data"
   ]
  },
  {
   "cell_type": "code",
   "execution_count": 17,
   "id": "cfa5e344-60ac-43a7-82d8-012cae29b435",
   "metadata": {},
   "outputs": [],
   "source": [
    "#creating a spending label column from 'Total Amount Spent($)' column\n",
    "data['Spending Label'] = data['Total Amount Spent($)'].apply(\n",
    "       lambda x: 'High Spender' if x > 45 else ('Middle Spender' if x >=25 else 'Low Spender'))"
   ]
  },
  {
   "cell_type": "code",
   "execution_count": 19,
   "id": "27556ff0-8cd9-4114-8843-5e335b6315c4",
   "metadata": {},
   "outputs": [
    {
     "data": {
      "text/html": [
       "<div>\n",
       "<style scoped>\n",
       "    .dataframe tbody tr th:only-of-type {\n",
       "        vertical-align: middle;\n",
       "    }\n",
       "\n",
       "    .dataframe tbody tr th {\n",
       "        vertical-align: top;\n",
       "    }\n",
       "\n",
       "    .dataframe thead th {\n",
       "        text-align: right;\n",
       "    }\n",
       "</style>\n",
       "<table border=\"1\" class=\"dataframe\">\n",
       "  <thead>\n",
       "    <tr style=\"text-align: right;\">\n",
       "      <th></th>\n",
       "      <th>Name</th>\n",
       "      <th># of products purchased</th>\n",
       "      <th>Total Amount Spent($)</th>\n",
       "      <th>Spending Label</th>\n",
       "    </tr>\n",
       "  </thead>\n",
       "  <tbody>\n",
       "    <tr>\n",
       "      <th>0</th>\n",
       "      <td>Jennifer</td>\n",
       "      <td>2</td>\n",
       "      <td>10</td>\n",
       "      <td>Low Spender</td>\n",
       "    </tr>\n",
       "    <tr>\n",
       "      <th>1</th>\n",
       "      <td>Michaela</td>\n",
       "      <td>7</td>\n",
       "      <td>35</td>\n",
       "      <td>Middle Spender</td>\n",
       "    </tr>\n",
       "    <tr>\n",
       "      <th>2</th>\n",
       "      <td>Karen</td>\n",
       "      <td>5</td>\n",
       "      <td>25</td>\n",
       "      <td>Middle Spender</td>\n",
       "    </tr>\n",
       "    <tr>\n",
       "      <th>3</th>\n",
       "      <td>Tina</td>\n",
       "      <td>10</td>\n",
       "      <td>50</td>\n",
       "      <td>High Spender</td>\n",
       "    </tr>\n",
       "  </tbody>\n",
       "</table>\n",
       "</div>"
      ],
      "text/plain": [
       "       Name  # of products purchased  Total Amount Spent($)  Spending Label\n",
       "0  Jennifer                        2                     10     Low Spender\n",
       "1  Michaela                        7                     35  Middle Spender\n",
       "2     Karen                        5                     25  Middle Spender\n",
       "3      Tina                       10                     50    High Spender"
      ]
     },
     "execution_count": 19,
     "metadata": {},
     "output_type": "execute_result"
    }
   ],
   "source": [
    "#checking that Spending Label column has been added \n",
    "data"
   ]
  }
 ],
 "metadata": {
  "kernelspec": {
   "display_name": "Python [conda env:anaconda3-20th_Century]",
   "language": "python",
   "name": "conda-env-anaconda3-20th_Century-py"
  },
  "language_info": {
   "codemirror_mode": {
    "name": "ipython",
    "version": 3
   },
   "file_extension": ".py",
   "mimetype": "text/x-python",
   "name": "python",
   "nbconvert_exporter": "python",
   "pygments_lexer": "ipython3",
   "version": "3.12.7"
  }
 },
 "nbformat": 4,
 "nbformat_minor": 5
}
