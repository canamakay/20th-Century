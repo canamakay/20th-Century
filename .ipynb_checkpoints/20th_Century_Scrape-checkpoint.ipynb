{
 "cells": [
  {
   "cell_type": "markdown",
   "id": "0063477d-6394-4f50-b11f-236ad0aaf1f7",
   "metadata": {},
   "source": [
    "# 1.4: Accessing Web Data with Data Scraping"
   ]
  },
  {
   "cell_type": "markdown",
   "id": "26319458-a899-4fa2-9944-d9627dc9a41e",
   "metadata": {},
   "source": [
    "### Importing Libraries"
   ]
  },
  {
   "cell_type": "code",
   "execution_count": 5,
   "id": "910b91b5-8ab7-4184-bcf8-1a6fccaa4a7d",
   "metadata": {},
   "outputs": [],
   "source": [
    "#importing libaries \n",
    "import pandas as pd\n",
    "import time\n",
    "from selenium import webdriver\n",
    "from webdriver_manager.chrome import ChromeDriverManager\n",
    "from selenium.webdriver.common.by import By\n",
    "from selenium.webdriver.chrome.service import Service\n",
    "from selenium.webdriver.chrome.options import Options\n",
    "import matplotlib.pyplot as plt \n",
    "import os\n",
    "import logging"
   ]
  },
  {
   "cell_type": "code",
   "execution_count": 6,
   "id": "01aab6cf-3874-4db4-b9c4-7026951a1b10",
   "metadata": {},
   "outputs": [],
   "source": [
    "#installing chrome driver manager\n",
    "service = Service(executable_path=ChromeDriverManager().install())"
   ]
  },
  {
   "cell_type": "code",
   "execution_count": 7,
   "id": "4341c59b-56cf-4843-b626-a1bd7fc7730c",
   "metadata": {},
   "outputs": [],
   "source": [
    "driver = webdriver.Chrome()"
   ]
  },
  {
   "cell_type": "markdown",
   "id": "476deb97-382a-43b0-a5e3-dbfb4166e2b4",
   "metadata": {},
   "source": [
    "## Scraping Key events of the 20th century Wiki page "
   ]
  },
  {
   "cell_type": "code",
   "execution_count": 9,
   "id": "f6b95477-a05f-40ee-b026-dbf52daea4de",
   "metadata": {},
   "outputs": [],
   "source": [
    "from bs4 import BeautifulSoup\n",
    "import requests"
   ]
  },
  {
   "cell_type": "code",
   "execution_count": 10,
   "id": "fe2d84d4-51ff-4042-b5aa-6a5173a8ca0d",
   "metadata": {},
   "outputs": [],
   "source": [
    "# getting URL\n",
    "page = requests.get(\"https://en.wikipedia.org/wiki/Key_events_of_the_20th_century\")"
   ]
  },
  {
   "cell_type": "code",
   "execution_count": 11,
   "id": "40ab9b70-6e58-4344-8f01-1fd418c12336",
   "metadata": {},
   "outputs": [
    {
     "name": "stdout",
     "output_type": "stream",
     "text": [
      "<title>Key events of the 20th century - Wikipedia</title>\n"
     ]
    }
   ],
   "source": [
    "# creating soup and getting title\n",
    "soup = BeautifulSoup(page.text, 'html.parser')\n",
    "print(soup.title)"
   ]
  },
  {
   "cell_type": "code",
   "execution_count": 12,
   "id": "b87761a6-da5e-42cd-b308-be04b6c56202",
   "metadata": {},
   "outputs": [],
   "source": [
    "text = soup.get_text()\n",
    "\n",
    "text = text.encode ('utf-8')\n",
    "\n",
    "with open('Key_events_of_the_20th_century_article_Wiki.txt', 'wb') as f:\n",
    "       f.write(text)"
   ]
  },
  {
   "cell_type": "markdown",
   "id": "b3d4c5b4-6085-41d2-85c3-9ad536f87f5e",
   "metadata": {},
   "source": [
    "### Bonus Task: Scraping a list of countries"
   ]
  },
  {
   "cell_type": "code",
   "execution_count": 14,
   "id": "6ec99020-8b15-4fe2-b8a7-8e6bc476cf2a",
   "metadata": {},
   "outputs": [],
   "source": [
    "#installing chrome driver manager\n",
    "service = Service(executable_path=ChromeDriverManager().install())"
   ]
  },
  {
   "cell_type": "code",
   "execution_count": 15,
   "id": "dfd6b556-49e8-427b-8d50-5e6d9c21c97e",
   "metadata": {},
   "outputs": [],
   "source": [
    "driver = webdriver.Chrome()"
   ]
  },
  {
   "cell_type": "code",
   "execution_count": 16,
   "id": "3a4254c9-f441-49cd-b9e8-52f02a3a3aa6",
   "metadata": {},
   "outputs": [],
   "source": [
    "# Getting the page’s contents\n",
    "page_url = \"https://simple.m.wikipedia.org/wiki/List_of_countries\"\n",
    "driver.get(page_url)"
   ]
  },
  {
   "cell_type": "code",
   "execution_count": 17,
   "id": "5a2a207a-0c42-49d6-9667-b3a389f9c201",
   "metadata": {},
   "outputs": [],
   "source": [
    "#creating a list of countries \n",
    "list_of_countries = driver.find_elements(by = By.CLASS_NAME, value = 'mw-content-ltr.mw-parser-output')"
   ]
  },
  {
   "cell_type": "code",
   "execution_count": 18,
   "id": "e41503bc-a09b-4baa-99fc-239e3a675007",
   "metadata": {
    "collapsed": true,
    "jupyter": {
     "outputs_hidden": true
    }
   },
   "outputs": [
    {
     "data": {
      "text/plain": [
       "\"This is a list of sovereign states. Disputed countries are listed at the bottom.\\n\\nContents: Top – 0-9 A B C D E F G H I J K L M N O P Q R S T U V W X Y Z\\nA\\nchange\\n Afghanistan –  Albania –  Algeria –  Andorra –  Angola –  Antigua and Barbuda –  Argentina –  Armenia –  Australia –  Austria –  Azerbaijan\\nB\\nchange\\n Bahamas, The –  Bahrain –  Bangladesh –   Barbados –  Belarus –   Belgium –   Belize –   Benin –   Bhutan –   Bolivia –   Bosnia and Herzegovina –   Botswana –   Brazil –   Brunei –   Bulgaria –   Burkina Faso –   Burundi\\nC\\nchange\\n  Cabo Verde –   Cambodia –   Cameroon –   Canada –   Central African Republic –   Chad –   Chile –   China –   Colombia –   Comoros –   Congo, Democratic Republic of the –   Congo, Republic of the –   Costa Rica –   Croatia –   Cuba –   Cyprus –   Czech Republic\\nD\\nchange\\n  Denmark –   Djibouti –   Dominica –   Dominican Republic\\nE\\nchange\\n  East Timor –   Ecuador –   Egypt –   El Salvador –   Equatorial Guinea –   Eritrea –   Estonia –   Eswatini –   Ethiopia\\nF\\nchange\\n  Fiji –   Finland –   France\\nG\\nchange\\n  Gabon –   Gambia –   Georgia –   Germany –   Ghana –   Greece –   Grenada –   Guatemala –   Guinea –   Guinea-Bissau –   Guyana\\nH\\nchange\\n  Haiti –   Honduras –   Hungary\\nI\\nchange\\n  Iceland –   India –   Indonesia –   Iran –   Iraq –   Ireland –   Israel –   Italy –   Ivory Coast\\nJ\\nchange\\n  Jamaica –   Japan –   Jordan\\nK\\nchange\\n  Kazakhstan –   Kenya –   Kiribati –   Korea, North –   Korea, South –   Kuwait –   Kyrgyzstan\\nL\\nchange\\n  Laos –   Latvia –   Lebanon –   Lesotho –   Liberia –   Libya –   Liechtenstein –   Lithuania –   Luxembourg\\nM\\nchange\\n  Madagascar –   Malawi –   Malaysia –   Maldives –   Mali –   Malta –   Marshall Islands –   Mauritania –   Mauritius –   Mexico –   Micronesia –   Moldova –   Monaco –   Mongolia –   Montenegro –   Morocco –   Mozambique –   Myanmar\\nN\\nchange\\n  Namibia –   Nauru –     Nepal –   Netherlands –   New Zealand –   Nicaragua –   Niger –   Nigeria –   North Macedonia –   Norway\\nO\\nchange\\n  Oman\\nP\\nchange\\n  Pakistan –   Palau –   Palestine –   Panama –   Papua New Guinea –   Paraguay –   Peru –   Philippines –   Poland –   Portugal\\nQ\\nchange\\n  Qatar\\nR\\nchange\\n  Romania –   Russia –   Rwanda\\nS\\nchange\\n  Saint Kitts and Nevis –   Saint Lucia –   Saint Vincent and the Grenadines –   Samoa –   San Marino –   São Tomé and Príncipe –   Saudi Arabia –   Senegal –   Serbia –   Seychelles –   Sierra Leone –   Singapore –   Slovakia –   Slovenia –   Solomon Islands –   Somalia –   South Africa –   South Sudan –   Spain –   Sri Lanka –   Sudan –   Suriname –   Sweden –    Switzerland –   Syria\\nT\\nchange\\n  Tajikistan –   Tanzania –   Thailand –   Togo –   Tonga –   Trinidad and Tobago –   Tunisia –   Turkey –   Turkmenistan –   Tuvalu\\nU\\nchange\\n  Uganda –   Ukraine –   United Arab Emirates –   United Kingdom –   United States –   Uruguay –   Uzbekistan\\nV\\nchange\\n  Vanuatu –    Vatican City –   Venezuela –   Vietnam\\nY\\nchange\\n  Yemen\\nZ\\nchange\\n  Zambia –   Zimbabwe\\nDisputed countries\\nchange\\nSee also: List of states with limited recognition\\n  Abkhazia –   Donetsk People's Republic –   Kosovo –   Liberland –   Luhansk People's Republic –   Northern Cyprus –   Sahrawi Arab Democratic Republic –   Sealand –   Somaliland –   South Ossetia –   Taiwan –   Transnistria\\nPlaces sometimes considered countries, but not actual countries according to international law\\nchange\\nDependent territories\\nchange\\n  Akrotiri and Dhekelia –   American Samoa –   Anguilla –   Bermuda –   British Indian Ocean Territory –   British Virgin Islands –   Cayman Islands –   Cook Islands –   Falkland Islands –   Gibraltar –   Guam –   Guernsey –   Isle of Man –   Jersey –   Montserrat –   Niue –   Northern Mariana Islands –   Pitcairn Islands –   Puerto Rico –   Saint Helena, Ascension and Tristan da Cunha   South Georgia and the South Sandwich Islands –   Tokelau –   Turks and Caicos Islands –   United States Minor Outlying Islands –   United States Virgin Islands\\nAdministrative divisions\\nchange\\n  Adjara –   Anjouan –   Azad Kashmir –   Bougainville –   England –   Gagauzia –   Kurdistan   Northern Ireland –   Roraima –   Scotland –   South Moluccas –   Wales –   West Papua\\nIntegral parts of sovereign states\\nchange\\n  Åland –   Aruba –   Azores –   Bonaire –   Canary Islands –   Ceuta –   Christmas Island –   Cocos (Keeling) Islands –   Curaçao –   Easter Island –   Faroe Islands –   French Guiana –   French Polynesia –   French Southern and Antarctic Lands –   Galapagos Islands –   Greenland –   Guadeloupe –   Hong Kong –   Macau –   Madeira –   Martinique –   Mayotte –   Melilla –   New Caledonia –   Norfolk Island –   Réunion –   Saba –   Saint Barthelemy –   Saint Martin –   Saint Pierre and Miquelon –   Sint Eustatius –   Sint Maarten –   Svalbard and Jan Mayen\\nOther entities\\nchange\\n  Antarctica –   Sovereign Military Order of Malta\""
      ]
     },
     "execution_count": 18,
     "metadata": {},
     "output_type": "execute_result"
    }
   ],
   "source": [
    "list_of_countries[0].text"
   ]
  },
  {
   "cell_type": "code",
   "execution_count": 19,
   "id": "c626fbf9-92b6-4c49-9eda-41e3ee5110ff",
   "metadata": {},
   "outputs": [],
   "source": []
  }
 ],
 "metadata": {
  "kernelspec": {
   "display_name": "Python [conda env:anaconda3-20th_Century]",
   "language": "python",
   "name": "conda-env-anaconda3-20th_Century-py"
  },
  "language_info": {
   "codemirror_mode": {
    "name": "ipython",
    "version": 3
   },
   "file_extension": ".py",
   "mimetype": "text/x-python",
   "name": "python",
   "nbconvert_exporter": "python",
   "pygments_lexer": "ipython3",
   "version": "3.12.7"
  }
 },
 "nbformat": 4,
 "nbformat_minor": 5
}
