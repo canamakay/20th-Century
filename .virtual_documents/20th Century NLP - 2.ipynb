


import pandas as pd
import numpy as np
import spacy
from spacy import displacy
import networkx as nx
import os
import matplotlib.pyplot as plt
import scipy
import re


# downloading English module
!python -m spacy download en_core_web_sm


# loading spacy English module
NER = spacy.load("en_core_web_sm")


# Loading 20th century txt file 
with open('Key_events_of_the_20th_century_article_Wiki.txt', 'r', errors='ignore') as file:
    data = file.read().replace('\n', '')


book = NER(data)


# visualizing identified entities
displacy.render(book[273:20000], style = "ent", jupyter = True)


df_sentences = [] # empty shell to store results

# loop through sentences, getting entity list for each sentence
for sent in book.sents:
    entity_list = [ent.text for ent in sent.ents]
    df_sentences.append({"sentence": sent, "entities": entity_list})
    
df_sentences = pd.DataFrame(df_sentences)


df_sentences.head(10)


#loading list of countries
countries_df = pd.read_csv("countries_list_20th_century.csv", index_col = 0)


countries_df.head()


# creating a function to filter out entities not of interest
def filter_entity(ent_list, countries_df):
    return [ent for ent in ent_list 
            if ent in list(countries_df['country_name'])]


df_sentences['country_entities'] = df_sentences['entities'].apply(lambda x: filter_entity(x, countries_df))


df_sentences['country_entities'].head(20)



