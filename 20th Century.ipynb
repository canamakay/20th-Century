{
 "cells": [
  {
   "cell_type": "markdown",
   "id": "fcc37ff3-2784-439b-9f7e-6a7af040c87e",
   "metadata": {},
   "source": [
    "20th century"
   ]
  },
  {
   "cell_type": "code",
   "execution_count": null,
   "id": "6ad9e6a6-0268-4054-b368-50154eabeb9a",
   "metadata": {},
   "outputs": [],
   "source": []
  }
 ],
 "metadata": {
  "kernelspec": {
   "display_name": "Python 3 (ipykernel)",
   "language": "python",
   "name": "python3"
  },
  "language_info": {
   "codemirror_mode": {
    "name": "ipython",
    "version": 3
   },
   "file_extension": ".py",
   "mimetype": "text/x-python",
   "name": "python",
   "nbconvert_exporter": "python",
   "pygments_lexer": "ipython3",
   "version": "3.12.4"
  }
 },
 "nbformat": 4,
 "nbformat_minor": 5
}
