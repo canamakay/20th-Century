





#importing libaries 
import pandas as pd
import time
from selenium import webdriver
from webdriver_manager.chrome import ChromeDriverManager
from selenium.webdriver.common.by import By
from selenium.webdriver.chrome.service import Service
from selenium.webdriver.chrome.options import Options
import matplotlib.pyplot as plt 
import os
import logging


#installing chrome driver manager
service = Service(executable_path=ChromeDriverManager().install())


driver = webdriver.Chrome()





from bs4 import BeautifulSoup
import requests


# getting URL
page = requests.get("https://en.wikipedia.org/wiki/Key_events_of_the_20th_century")


# creating soup and getting title
soup = BeautifulSoup(page.text, 'html.parser')
print(soup.title)


text = soup.get_text()

text = text.encode ('utf-8')

with open('Key_events_of_the_20th_century_article_Wiki.txt', 'wb') as f:
       f.write(text)





#installing chrome driver manager
service = Service(executable_path=ChromeDriverManager().install())


driver = webdriver.Chrome()


# Getting the page’s contents
page_url = "https://simple.m.wikipedia.org/wiki/List_of_countries"
driver.get(page_url)


#creating a list of countries 
list_of_countries = driver.find_elements(by = By.CLASS_NAME, value = 'mw-content-ltr.mw-parser-output')


list_of_countries[0].text






